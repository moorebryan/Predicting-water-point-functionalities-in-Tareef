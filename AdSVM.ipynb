{
 "cells": [
  {
   "cell_type": "code",
   "execution_count": 241,
   "metadata": {},
   "outputs": [],
   "source": [
    "# import all the necessary libraries\n",
    "import numpy as np\n",
    "import pandas as pd\n",
    "import matplotlib.pyplot as plt\n",
    "import seaborn as sns\n",
    "from sklearn.linear_model import LogisticRegression\n",
    "from sklearn.metrics import confusion_matrix, precision_score, recall_score, f1_score, classification_report\n",
    "from sklearn.model_selection import train_test_split, GridSearchCV, cross_val_score"
   ]
  },
  {
   "cell_type": "code",
   "execution_count": 252,
   "metadata": {},
   "outputs": [
    {
     "name": "stdout",
     "output_type": "stream",
     "text": [
      "(59400, 40)\n",
      "(59400, 2)\n"
     ]
    }
   ],
   "source": [
    "X = pd.read_csv(\"./dataset/training_features.csv\")\n",
    "y = pd.read_csv(\"./dataset/training_labels.csv\")\n",
    "\n",
    "print(X.shape)\n",
    "print(y.shape)"
   ]
  },
  {
   "cell_type": "code",
   "execution_count": 253,
   "metadata": {},
   "outputs": [],
   "source": [
    "y.loc[y['status_group'] == 'functional', 'label'] = '0'\n",
    "y.loc[y['status_group'] == 'non functional', 'label'] = '2'\n",
    "y.loc[y['status_group'] == 'functional needs repair', 'label'] = '1'"
   ]
  },
  {
   "cell_type": "code",
   "execution_count": 254,
   "metadata": {},
   "outputs": [
    {
     "name": "stdout",
     "output_type": "stream",
     "text": [
      "      id    status_group label\n",
      "0  69572      functional     0\n",
      "1   8776      functional     0\n",
      "2  34310      functional     0\n",
      "3  67743  non functional     2\n",
      "4  19728      functional     0\n",
      "['0' '0' '0' ... '0' '0' '0']\n"
     ]
    },
    {
     "data": {
      "text/plain": [
       "array(['0', '1', '2'], dtype=object)"
      ]
     },
     "execution_count": 254,
     "metadata": {},
     "output_type": "execute_result"
    }
   ],
   "source": [
    "print(y.head())\n",
    "y_final = y['label'].values\n",
    "print(y_final)\n",
    "np.unique(y_final)"
   ]
  },
  {
   "cell_type": "code",
   "execution_count": 255,
   "metadata": {},
   "outputs": [
    {
     "data": {
      "text/plain": [
       "(59400, 92)"
      ]
     },
     "execution_count": 255,
     "metadata": {},
     "output_type": "execute_result"
    }
   ],
   "source": [
    "hot_cols = ['basin', 'region', 'scheme_management', 'extraction_type', 'permit', 'water_quality', 'quantity', 'source', 'waterpoint_type']\n",
    "df_categorical = copy.deepcopy(X[hot_cols])\n",
    "df_categorical = pd.get_dummies(df_categorical)\n",
    "df_categorical.shape"
   ]
  },
  {
   "cell_type": "markdown",
   "metadata": {},
   "source": [
    "### SVM (for experimentation)"
   ]
  },
  {
   "cell_type": "code",
   "execution_count": 240,
   "metadata": {},
   "outputs": [
    {
     "name": "stdout",
     "output_type": "stream",
     "text": [
      "Best Score (accuracy): 0.759147\n",
      "Optimal Hyperparameter Values:  {'C': 10, 'gamma': 0.1}\n",
      "\n",
      "\n",
      "Wall time: 4h 49min 51s\n"
     ]
    }
   ],
   "source": [
    "%%time\n",
    "\n",
    "param_grid = {'gamma': [0.00001, 0.0001, 0.001, 0.01, 0.1, 1], \n",
    "              'C': [10, 100, 1000, 10000]}\n",
    "clf = SVC()\n",
    "\n",
    "clf_cv = GridSearchCV(clf, param_grid, scoring='accuracy', cv=3)\n",
    "clf_cv.fit(X_train, y_train)\n",
    "\n",
    "params_optimal = clf_cv.best_params_\n",
    "\n",
    "print(\"Best Score (accuracy): %f\" % clf_cv.best_score_)\n",
    "print(\"Optimal Hyperparameter Values: \", params_optimal)\n",
    "print(\"\\n\")"
   ]
  },
  {
   "cell_type": "code",
   "execution_count": null,
   "metadata": {},
   "outputs": [],
   "source": []
  }
 ],
 "metadata": {
  "kernelspec": {
   "display_name": "Python 3",
   "language": "python",
   "name": "python3"
  },
  "language_info": {
   "codemirror_mode": {
    "name": "ipython",
    "version": 3
   },
   "file_extension": ".py",
   "mimetype": "text/x-python",
   "name": "python",
   "nbconvert_exporter": "python",
   "pygments_lexer": "ipython3",
   "version": "3.7.2"
  }
 },
 "nbformat": 4,
 "nbformat_minor": 2
}
